{
  "nbformat": 4,
  "nbformat_minor": 0,
  "metadata": {
    "colab": {
      "provenance": []
    },
    "kernelspec": {
      "name": "ir",
      "display_name": "R"
    },
    "language_info": {
      "name": "R"
    }
  },
  "cells": [
    {
      "cell_type": "code",
      "metadata": {
        "colab": {
          "base_uri": "https://localhost:8080/"
        },
        "id": "Q-6sa3L9CVmf",
        "outputId": "2364bd1c-c3a1-4866-f174-8016f08a63ec"
      },
      "source": [
        "install.packages(\"igraph\")"
      ],
      "execution_count": null,
      "outputs": [
        {
          "output_type": "stream",
          "name": "stderr",
          "text": [
            "Installing package into ‘/usr/local/lib/R/site-library’\n",
            "(as ‘lib’ is unspecified)\n",
            "\n"
          ]
        }
      ]
    },
    {
      "cell_type": "code",
      "metadata": {
        "colab": {
          "base_uri": "https://localhost:8080/"
        },
        "id": "Mf-cziLNCebh",
        "outputId": "b3a3f236-a00d-4ba3-cd70-091d4043721b"
      },
      "source": [
        "install.packages(\"lsa\")"
      ],
      "execution_count": null,
      "outputs": [
        {
          "output_type": "stream",
          "name": "stderr",
          "text": [
            "Installing package into ‘/usr/local/lib/R/site-library’\n",
            "(as ‘lib’ is unspecified)\n",
            "\n",
            "also installing the dependency ‘SnowballC’\n",
            "\n",
            "\n"
          ]
        }
      ]
    },
    {
      "cell_type": "markdown",
      "metadata": {
        "id": "RDqHORBmEGQo"
      },
      "source": [
        "**TASK1** Provide a link on a Colab Google R or Colab Google Python notebook. (**GUZEEV EVGENY)** \n",
        "\n",
        "A file should be named \"Surname_Lab_number.r\", for example, \"Semenov_Lab_4.r\".\n",
        "\n",
        "Code the graph algorithm for comparing n vector by a cosine measure in pairs\n",
        "\n",
        "\n",
        "Use for test the 4 sentences: \n",
        "\n",
        "\n",
        "1.   Прорабатывала вопрос по реализации приложения проекту ТМЦ;\n",
        "2.   Подготовили обоснование обучения по 1С: ТОиР, поиск курсов;\n",
        "3.   Прорабатывала вопрос по началу работ по проекту ТМЦ; \n",
        "4.   Прорабатывала вопрос по загрузке данных по проекту ТМЦ.\n",
        "\n",
        "\n",
        "\n"
      ]
    },
    {
      "cell_type": "markdown",
      "metadata": {
        "id": "axgI94BJFTO5"
      },
      "source": [
        "Для решения получения векторов слов. Код писался на Python По следующему алгоритму\n",
        "\n",
        "\n",
        "1.   Так первое предложение состоит из 7 слов, к нему было добавлено рандомное слово\n",
        "2.   Каждое предложение разделялось через split и превращалось в список\n",
        "3. За базовое предложение использовалось предложение 3\n",
        "4. Слова сравнивались друг с другом. Можно было написать скрипт объемнее и сразу вывести все списки, но быстрее было по очереди, так как всего 4 предложения\n",
        "\n",
        "\n",
        "\n",
        "\n"
      ]
    },
    {
      "cell_type": "code",
      "metadata": {
        "id": "cqlPdKlOEFZm"
      },
      "source": [
        "#s1 = 'Прорабатывала вопрос по реализации приложения проекту ТМЦ Т'\n",
        "#s2 = 'Подготовили обоснование обучения по 1С: ТОиР, поиск курсов'\n",
        "#s3 = 'Прорабатывала вопрос по началу работ по проекту ТМЦ'\n",
        "#s4 = 'Прорабатывала вопрос по загрузке данных по проекту ТМЦ'\n",
        "\n",
        "#sl1 = s1.split(' ')\n",
        "#sl2 = s2.split(' ')\n",
        "#sl3 = s3.split(' ')\n",
        "#sl4 = s4.split(' ')\n",
        "\n",
        "#slist4=[]\n",
        "#i = 0\n",
        "#while i < len(sl3):\n",
        "    #if sl4[i] == sl3[i]:\n",
        "        slist4.append(1)\n",
        "    #else:\n",
        "        #slist4.append(0)\n",
        "    #i += 1\n",
        "#slist4"
      ],
      "execution_count": null,
      "outputs": []
    },
    {
      "cell_type": "code",
      "metadata": {
        "colab": {
          "base_uri": "https://localhost:8080/",
          "height": 890
        },
        "id": "SRzHwE3kEFhn",
        "outputId": "9314ceee-fddd-43cf-ade3-d899f8664453"
      },
      "source": [
        "library(igraph) \n",
        "library(lsa) \n",
        "set.seed(2) \n",
        "\n",
        "slist1 <- c(1, 1, 1, 0, 0, 0, 0, 0)\n",
        "slist2 <- c(0, 0, 0, 0, 0, 0, 0, 0)\n",
        "slist3 <- c(1, 1, 1, 1, 1, 1, 1, 1)\n",
        "slist4 <- c(1, 1, 1, 0, 0, 1, 1, 1)\n",
        "\n",
        "\n",
        "\n",
        "cos <- cosine(slist1, slist3)\n",
        "\n",
        "cos_vec1 <- c(1,\n",
        "             cosine(slist1, slist2),\n",
        "             cosine(slist1, slist3),\n",
        "             cosine(slist1, slist4))\n",
        "\n",
        "cos_vec2 <- c(cosine(slist2, slist1),\n",
        "              1,\n",
        "              cosine(slist2, slist3),\n",
        "              cosine(slist2, slist4))\n",
        "\n",
        "cos_vec3 <- c(cosine(slist3, slist1),\n",
        "              cosine(slist3, slist2),\n",
        "              1,\n",
        "              cosine(slist3, slist4))\n",
        "\n",
        "cos_vec4 <- c(cosine(slist4, slist1),\n",
        "              cosine(slist4, slist2),\n",
        "              cosine(slist4, slist3),\n",
        "              1)\n",
        "\n",
        "\n",
        "# Сравниваем с Тресхолдом\n",
        "thres <- 0.6\n",
        "cos_vec1[cos_vec1 >=0.6] <- 1\n",
        "\n",
        "cos_vec2[cos_vec2 >=0.6] <- 1\n",
        "\n",
        "cos_vec3[cos_vec3 >=0.6] <- 1\n",
        "\n",
        "cos_vec4[cos_vec4 >=0.6] <- 1\n",
        "\n",
        "\n",
        "\n",
        "\n",
        "vect <-c(cos_vec1, cos_vec2, cos_vec3, cos_vec4)\n",
        "\n",
        "\n",
        "\n",
        "adj_mat <- cbind(cos_vec1, cos_vec2, cos_vec3, cos_vec4)\n",
        "\n",
        "diag(adj_mat) <- 0\n",
        "\n",
        "adj_mat\n",
        "\n",
        "g <- graph_from_adjacency_matrix(adj_mat, mode=\"undirected\") \n",
        "plot(g) "
      ],
      "execution_count": null,
      "outputs": [
        {
          "output_type": "stream",
          "name": "stderr",
          "text": [
            "\n",
            "Attaching package: ‘igraph’\n",
            "\n",
            "\n",
            "The following objects are masked from ‘package:stats’:\n",
            "\n",
            "    decompose, spectrum\n",
            "\n",
            "\n",
            "The following object is masked from ‘package:base’:\n",
            "\n",
            "    union\n",
            "\n",
            "\n",
            "Loading required package: SnowballC\n",
            "\n"
          ]
        },
        {
          "output_type": "display_data",
          "data": {
            "text/plain": [
              "     cos_vec1 cos_vec2 cos_vec3 cos_vec4\n",
              "[1,]   0      NaN        1        1     \n",
              "[2,] NaN        0      NaN      NaN     \n",
              "[3,]   1      NaN        0        1     \n",
              "[4,]   1      NaN        1        0     "
            ],
            "text/latex": "A matrix: 4 × 4 of type dbl\n\\begin{tabular}{llll}\n cos\\_vec1 & cos\\_vec2 & cos\\_vec3 & cos\\_vec4\\\\\n\\hline\n\t   0 & NaN &   1 &   1\\\\\n\t NaN &   0 & NaN & NaN\\\\\n\t   1 & NaN &   0 &   1\\\\\n\t   1 & NaN &   1 &   0\\\\\n\\end{tabular}\n",
            "text/markdown": "\nA matrix: 4 × 4 of type dbl\n\n| cos_vec1 | cos_vec2 | cos_vec3 | cos_vec4 |\n|---|---|---|---|\n|   0 | NaN |   1 |   1 |\n| NaN |   0 | NaN | NaN |\n|   1 | NaN |   0 |   1 |\n|   1 | NaN |   1 |   0 |\n\n",
            "text/html": [
              "<table class=\"dataframe\">\n",
              "<caption>A matrix: 4 × 4 of type dbl</caption>\n",
              "<thead>\n",
              "\t<tr><th scope=col>cos_vec1</th><th scope=col>cos_vec2</th><th scope=col>cos_vec3</th><th scope=col>cos_vec4</th></tr>\n",
              "</thead>\n",
              "<tbody>\n",
              "\t<tr><td>  0</td><td>NaN</td><td>  1</td><td>  1</td></tr>\n",
              "\t<tr><td>NaN</td><td>  0</td><td>NaN</td><td>NaN</td></tr>\n",
              "\t<tr><td>  1</td><td>NaN</td><td>  0</td><td>  1</td></tr>\n",
              "\t<tr><td>  1</td><td>NaN</td><td>  1</td><td>  0</td></tr>\n",
              "</tbody>\n",
              "</table>\n"
            ]
          },
          "metadata": {}
        },
        {
          "output_type": "display_data",
          "data": {
            "image/png": "[encoded data removed]",
            "text/plain": [
              "Plot with title “”"
            ]
          },
          "metadata": {
            "image/png": {
              "width": 420,
              "height": 420
            }
          }
        }
      ]
    },
    {
      "cell_type": "markdown",
      "metadata": {
        "id": "LNFC2uKfHbwg"
      },
      "source": [
        "**Task 2** Make a tokenization between words in your html dataset, then calculate and visualize relationships between words.\n",
        "\n",
        "\n"
      ]
    },
    {
      "cell_type": "code",
      "metadata": {
        "colab": {
          "base_uri": "https://localhost:8080/"
        },
        "id": "XoiAkFiik0AJ",
        "outputId": "115fe405-cd49-4f3c-a53d-768cbc719150"
      },
      "source": [
        "install.packages(\"tidytext\")"
      ],
      "execution_count": null,
      "outputs": [
        {
          "output_type": "stream",
          "name": "stderr",
          "text": [
            "Installing package into ‘/usr/local/lib/R/site-library’\n",
            "(as ‘lib’ is unspecified)\n",
            "\n",
            "also installing the dependencies ‘hunspell’, ‘janeaustenr’, ‘tokenizers’\n",
            "\n",
            "\n"
          ]
        }
      ]
    },
    {
      "cell_type": "code",
      "metadata": {
        "id": "nUNM_ZR7k6Zp"
      },
      "source": [],
      "execution_count": null,
      "outputs": []
    },
    {
      "cell_type": "code",
      "metadata": {
        "colab": {
          "base_uri": "https://localhost:8080/"
        },
        "id": "jazZokqylDrz",
        "outputId": "8f5f0b83-e760-493d-d9f5-fac39c31f5bb"
      },
      "source": [
        "install.packages(\"dplyr\")"
      ],
      "execution_count": null,
      "outputs": [
        {
          "output_type": "stream",
          "name": "stderr",
          "text": [
            "Installing package into ‘/usr/local/lib/R/site-library’\n",
            "(as ‘lib’ is unspecified)\n",
            "\n"
          ]
        }
      ]
    },
    {
      "cell_type": "code",
      "metadata": {
        "colab": {
          "base_uri": "https://localhost:8080/"
        },
        "id": "0mhg_-3alcyn",
        "outputId": "8e0b2aaa-e5ec-4a97-8232-101ff4f2b694"
      },
      "source": [
        "install.packages(\"tidyr\")"
      ],
      "execution_count": null,
      "outputs": [
        {
          "output_type": "stream",
          "name": "stderr",
          "text": [
            "Installing package into ‘/usr/local/lib/R/site-library’\n",
            "(as ‘lib’ is unspecified)\n",
            "\n"
          ]
        }
      ]
    },
    {
      "cell_type": "code",
      "metadata": {
        "colab": {
          "base_uri": "https://localhost:8080/"
        },
        "id": "C1TpnV0El2BR",
        "outputId": "0c15e362-a2ef-4c9b-c939-a73acb87da90"
      },
      "source": [
        "install.packages(\"ggraph\")"
      ],
      "execution_count": null,
      "outputs": [
        {
          "output_type": "stream",
          "name": "stderr",
          "text": [
            "Installing package into ‘/usr/local/lib/R/site-library’\n",
            "(as ‘lib’ is unspecified)\n",
            "\n",
            "also installing the dependencies ‘tweenr’, ‘polyclip’, ‘RcppEigen’, ‘gridExtra’, ‘RcppArmadillo’, ‘ggforce’, ‘ggrepel’, ‘viridis’, ‘tidygraph’, ‘graphlayouts’\n",
            "\n",
            "\n"
          ]
        }
      ]
    },
    {
      "cell_type": "code",
      "metadata": {
        "colab": {
          "base_uri": "https://localhost:8080/",
          "height": 1000
        },
        "id": "CaMxSNFplsCp",
        "outputId": "7f74ed5c-e48b-461f-ee22-9d8fa33fbbc4"
      },
      "source": [
        "library(tidytext)\n",
        "\n",
        "library(dplyr)\n",
        "\n",
        "\n",
        "txt1 <- readLines(\"datar2.txt\")\n",
        "\n",
        "d <- tibble(txt = txt1)\n",
        "\n",
        "\n",
        "drt <- d %>%\n",
        "  unnest_tokens(ngram, txt, token = \"ngrams\", n = 2)\n",
        "\n",
        "drt %>%\n",
        "  count(ngram, sort = TRUE)\n",
        "\n",
        "\n",
        "\n",
        "library(tidyr)\n",
        "\n",
        "word1 <- \"in\"\n",
        "word2 <- \"the\"\n",
        "\n",
        "drt_separated <- drt %>%\n",
        "  separate(ngram, c(\"word1\", \"word2\"), sep = \" \")\n",
        "\n",
        "drt_filtered <- drt_separated %>%\n",
        "  filter(!word1 %in% stop_words$word) %>%\n",
        "  filter(!word2 %in% stop_words$word)\n",
        "\n",
        "# new bigram counts:\n",
        "drt_counts <- drt_filtered %>% \n",
        "  count(word1, word2, sort = TRUE)\n",
        "drt_counts\n",
        "\n",
        "bigram_graph <- drt_counts %>%\n",
        "  filter(n > 2) %>%\n",
        "  graph_from_data_frame()\n",
        "\n",
        "library(ggraph)\n",
        "set.seed(2017)\n",
        "\n",
        "a <- grid::arrow(type = \"closed\", length = unit(.15, \"inches\"))\n",
        "\n",
        "ggraph(bigram_graph, layout = \"fr\") +\n",
        "  geom_edge_link(aes(edge_alpha = n), show.legend = FALSE,\n",
        "                 arrow = a, end_cap = circle(.07, 'inches')) +\n",
        "  geom_node_point(color = \"lightblue\", size = 5) +\n",
        "  geom_node_text(aes(label = name), vjust = 1, hjust = 1) +\n",
        "  theme_void()"
      ],
      "execution_count": null,
      "outputs": [
        {
          "output_type": "stream",
          "name": "stderr",
          "text": [
            "\n",
            "Attaching package: ‘dplyr’\n",
            "\n",
            "\n",
            "The following objects are masked from ‘package:igraph’:\n",
            "\n",
            "    as_data_frame, groups, union\n",
            "\n",
            "\n",
            "The following objects are masked from ‘package:stats’:\n",
            "\n",
            "    filter, lag\n",
            "\n",
            "\n",
            "The following objects are masked from ‘package:base’:\n",
            "\n",
            "    intersect, setdiff, setequal, union\n",
            "\n",
            "\n",
            "Warning message in readLines(\"datar2.txt\"):\n",
            "“incomplete final line found on 'datar2.txt'”\n"
          ]
        },
        {
          "output_type": "display_data",
          "data": {
            "text/plain": [
              "     ngram                 n \n",
              "1    data analysis         35\n",
              "2    of data               27\n",
              "3    it is                 24\n",
              "4    is a                  20\n",
              "5    of the                17\n",
              "6    the data              16\n",
              "7    analysis is           13\n",
              "8    based on              12\n",
              "9    in the                12\n",
              "10   predictive analysis   11\n",
              "11   represents the        11\n",
              "12   diagnostic analysis   10\n",
              "13   type of               10\n",
              "14   can be                 9\n",
              "15   data and               9\n",
              "16   descriptive analysis   9\n",
              "17   and more               8\n",
              "18   statistical analysis   8\n",
              "19   is the                 7\n",
              "20   there are              7\n",
              "21   use of                 7\n",
              "22   and the                6\n",
              "23   chart it               6\n",
              "24   for data               6\n",
              "25   in data                6\n",
              "26   is used                6\n",
              "27   it also                6\n",
              "28   prescriptive analysis  6\n",
              "29   to the                 6\n",
              "30   you have               6\n",
              "⋮    ⋮                     ⋮ \n",
              "2680 word cloud            1 \n",
              "2681 work and              1 \n",
              "2682 worked here           1 \n",
              "2683 works by              1 \n",
              "2684 works towards         1 \n",
              "2685 would generate        1 \n",
              "2686 would happen          1 \n",
              "2687 writing excel         1 \n",
              "2688 x and                 1 \n",
              "2689 y coordinates         1 \n",
              "2690 yet willing           1 \n",
              "2691 you 3                 1 \n",
              "2692 you begin             1 \n",
              "2693 you finally           1 \n",
              "2694 you find              1 \n",
              "2695 you identify          1 \n",
              "2696 you manipulate        1 \n",
              "2697 you need              1 \n",
              "2698 you set               1 \n",
              "2699 you take              1 \n",
              "2700 you want              1 \n",
              "2701 your analysis         1 \n",
              "2702 your disposal         1 \n",
              "2703 your initial          1 \n",
              "2704 your measurement      1 \n",
              "2705 your question         1 \n",
              "2706 your results          1 \n",
              "2707 your scope            1 \n",
              "2708 your steps            1 \n",
              "2709 your unit             1 "
            ],
            "text/latex": "A tibble: 2709 × 2\n\\begin{tabular}{ll}\n ngram & n\\\\\n <chr> & <int>\\\\\n\\hline\n\t data analysis         & 35\\\\\n\t of data               & 27\\\\\n\t it is                 & 24\\\\\n\t is a                  & 20\\\\\n\t of the                & 17\\\\\n\t the data              & 16\\\\\n\t analysis is           & 13\\\\\n\t based on              & 12\\\\\n\t in the                & 12\\\\\n\t predictive analysis   & 11\\\\\n\t represents the        & 11\\\\\n\t diagnostic analysis   & 10\\\\\n\t type of               & 10\\\\\n\t can be                &  9\\\\\n\t data and              &  9\\\\\n\t descriptive analysis  &  9\\\\\n\t and more              &  8\\\\\n\t statistical analysis  &  8\\\\\n\t is the                &  7\\\\\n\t there are             &  7\\\\\n\t use of                &  7\\\\\n\t and the               &  6\\\\\n\t chart it              &  6\\\\\n\t for data              &  6\\\\\n\t in data               &  6\\\\\n\t is used               &  6\\\\\n\t it also               &  6\\\\\n\t prescriptive analysis &  6\\\\\n\t to the                &  6\\\\\n\t you have              &  6\\\\\n\t ⋮ & ⋮\\\\\n\t word cloud       & 1\\\\\n\t work and         & 1\\\\\n\t worked here      & 1\\\\\n\t works by         & 1\\\\\n\t works towards    & 1\\\\\n\t would generate   & 1\\\\\n\t would happen     & 1\\\\\n\t writing excel    & 1\\\\\n\t x and            & 1\\\\\n\t y coordinates    & 1\\\\\n\t yet willing      & 1\\\\\n\t you 3            & 1\\\\\n\t you begin        & 1\\\\\n\t you finally      & 1\\\\\n\t you find         & 1\\\\\n\t you identify     & 1\\\\\n\t you manipulate   & 1\\\\\n\t you need         & 1\\\\\n\t you set          & 1\\\\\n\t you take         & 1\\\\\n\t you want         & 1\\\\\n\t your analysis    & 1\\\\\n\t your disposal    & 1\\\\\n\t your initial     & 1\\\\\n\t your measurement & 1\\\\\n\t your question    & 1\\\\\n\t your results     & 1\\\\\n\t your scope       & 1\\\\\n\t your steps       & 1\\\\\n\t your unit        & 1\\\\\n\\end{tabular}\n",
            "text/markdown": "\nA tibble: 2709 × 2\n\n| ngram &lt;chr&gt; | n &lt;int&gt; |\n|---|---|\n| data analysis         | 35 |\n| of data               | 27 |\n| it is                 | 24 |\n| is a                  | 20 |\n| of the                | 17 |\n| the data              | 16 |\n| analysis is           | 13 |\n| based on              | 12 |\n| in the                | 12 |\n| predictive analysis   | 11 |\n| represents the        | 11 |\n| diagnostic analysis   | 10 |\n| type of               | 10 |\n| can be                |  9 |\n| data and              |  9 |\n| descriptive analysis  |  9 |\n| and more              |  8 |\n| statistical analysis  |  8 |\n| is the                |  7 |\n| there are             |  7 |\n| use of                |  7 |\n| and the               |  6 |\n| chart it              |  6 |\n| for data              |  6 |\n| in data               |  6 |\n| is used               |  6 |\n| it also               |  6 |\n| prescriptive analysis |  6 |\n| to the                |  6 |\n| you have              |  6 |\n| ⋮ | ⋮ |\n| word cloud       | 1 |\n| work and         | 1 |\n| worked here      | 1 |\n| works by         | 1 |\n| works towards    | 1 |\n| would generate   | 1 |\n| would happen     | 1 |\n| writing excel    | 1 |\n| x and            | 1 |\n| y coordinates    | 1 |\n| yet willing      | 1 |\n| you 3            | 1 |\n| you begin        | 1 |\n| you finally      | 1 |\n| you find         | 1 |\n| you identify     | 1 |\n| you manipulate   | 1 |\n| you need         | 1 |\n| you set          | 1 |\n| you take         | 1 |\n| you want         | 1 |\n| your analysis    | 1 |\n| your disposal    | 1 |\n| your initial     | 1 |\n| your measurement | 1 |\n| your question    | 1 |\n| your results     | 1 |\n| your scope       | 1 |\n| your steps       | 1 |\n| your unit        | 1 |\n\n",
            "text/html": [
              "<table class=\"dataframe\">\n",
              "<caption>A tibble: 2709 × 2</caption>\n",
              "<thead>\n",
              "\t<tr><th scope=col>ngram</th><th scope=col>n</th></tr>\n",
              "\t<tr><th scope=col>&lt;chr&gt;</th><th scope=col>&lt;int&gt;</th></tr>\n",
              "</thead>\n",
              "<tbody>\n",
              "\t<tr><td>data analysis        </td><td>35</td></tr>\n",
              "\t<tr><td>of data              </td><td>27</td></tr>\n",
              "\t<tr><td>it is                </td><td>24</td></tr>\n",
              "\t<tr><td>is a                 </td><td>20</td></tr>\n",
              "\t<tr><td>of the               </td><td>17</td></tr>\n",
              "\t<tr><td>the data             </td><td>16</td></tr>\n",
              "\t<tr><td>analysis is          </td><td>13</td></tr>\n",
              "\t<tr><td>based on             </td><td>12</td></tr>\n",
              "\t<tr><td>in the               </td><td>12</td></tr>\n",
              "\t<tr><td>predictive analysis  </td><td>11</td></tr>\n",
              "\t<tr><td>represents the       </td><td>11</td></tr>\n",
              "\t<tr><td>diagnostic analysis  </td><td>10</td></tr>\n",
              "\t<tr><td>type of              </td><td>10</td></tr>\n",
              "\t<tr><td>can be               </td><td> 9</td></tr>\n",
              "\t<tr><td>data and             </td><td> 9</td></tr>\n",
              "\t<tr><td>descriptive analysis </td><td> 9</td></tr>\n",
              "\t<tr><td>and more             </td><td> 8</td></tr>\n",
              "\t<tr><td>statistical analysis </td><td> 8</td></tr>\n",
              "\t<tr><td>is the               </td><td> 7</td></tr>\n",
              "\t<tr><td>there are            </td><td> 7</td></tr>\n",
              "\t<tr><td>use of               </td><td> 7</td></tr>\n",
              "\t<tr><td>and the              </td><td> 6</td></tr>\n",
              "\t<tr><td>chart it             </td><td> 6</td></tr>\n",
              "\t<tr><td>for data             </td><td> 6</td></tr>\n",
              "\t<tr><td>in data              </td><td> 6</td></tr>\n",
              "\t<tr><td>is used              </td><td> 6</td></tr>\n",
              "\t<tr><td>it also              </td><td> 6</td></tr>\n",
              "\t<tr><td>prescriptive analysis</td><td> 6</td></tr>\n",
              "\t<tr><td>to the               </td><td> 6</td></tr>\n",
              "\t<tr><td>you have             </td><td> 6</td></tr>\n",
              "\t<tr><td>⋮</td><td>⋮</td></tr>\n",
              "\t<tr><td>word cloud      </td><td>1</td></tr>\n",
              "\t<tr><td>work and        </td><td>1</td></tr>\n",
              "\t<tr><td>worked here     </td><td>1</td></tr>\n",
              "\t<tr><td>works by        </td><td>1</td></tr>\n",
              "\t<tr><td>works towards   </td><td>1</td></tr>\n",
              "\t<tr><td>would generate  </td><td>1</td></tr>\n",
              "\t<tr><td>would happen    </td><td>1</td></tr>\n",
              "\t<tr><td>writing excel   </td><td>1</td></tr>\n",
              "\t<tr><td>x and           </td><td>1</td></tr>\n",
              "\t<tr><td>y coordinates   </td><td>1</td></tr>\n",
              "\t<tr><td>yet willing     </td><td>1</td></tr>\n",
              "\t<tr><td>you 3           </td><td>1</td></tr>\n",
              "\t<tr><td>you begin       </td><td>1</td></tr>\n",
              "\t<tr><td>you finally     </td><td>1</td></tr>\n",
              "\t<tr><td>you find        </td><td>1</td></tr>\n",
              "\t<tr><td>you identify    </td><td>1</td></tr>\n",
              "\t<tr><td>you manipulate  </td><td>1</td></tr>\n",
              "\t<tr><td>you need        </td><td>1</td></tr>\n",
              "\t<tr><td>you set         </td><td>1</td></tr>\n",
              "\t<tr><td>you take        </td><td>1</td></tr>\n",
              "\t<tr><td>you want        </td><td>1</td></tr>\n",
              "\t<tr><td>your analysis   </td><td>1</td></tr>\n",
              "\t<tr><td>your disposal   </td><td>1</td></tr>\n",
              "\t<tr><td>your initial    </td><td>1</td></tr>\n",
              "\t<tr><td>your measurement</td><td>1</td></tr>\n",
              "\t<tr><td>your question   </td><td>1</td></tr>\n",
              "\t<tr><td>your results    </td><td>1</td></tr>\n",
              "\t<tr><td>your scope      </td><td>1</td></tr>\n",
              "\t<tr><td>your steps      </td><td>1</td></tr>\n",
              "\t<tr><td>your unit       </td><td>1</td></tr>\n",
              "</tbody>\n",
              "</table>\n"
            ]
          },
          "metadata": {}
        },
        {
          "output_type": "stream",
          "name": "stderr",
          "text": [
            "\n",
            "Attaching package: ‘tidyr’\n",
            "\n",
            "\n",
            "The following object is masked from ‘package:igraph’:\n",
            "\n",
            "    crossing\n",
            "\n",
            "\n"
          ]
        },
        {
          "output_type": "display_data",
          "data": {
            "text/plain": [
              "    word1        word2           n \n",
              "1   data         analysis        35\n",
              "2   predictive   analysis        11\n",
              "3   diagnostic   analysis        10\n",
              "4   descriptive  analysis         9\n",
              "5   statistical  analysis         8\n",
              "6   prescriptive analysis         6\n",
              "7   artificial   intelligence     4\n",
              "8   data         mining           4\n",
              "9   prescriptive analytics        4\n",
              "10  analysis     1                3\n",
              "11  analysis     include          3\n",
              "12  analysis     predictive       3\n",
              "13  analysis     prescriptive     3\n",
              "14  business     applications     3\n",
              "15  data         analytics        3\n",
              "16  data         collection       3\n",
              "17  machine      learning         3\n",
              "18  predictive   models           3\n",
              "19  regression   analysis         3\n",
              "20  techniques   based            3\n",
              "21  text         analysis         3\n",
              "22  time         series           3\n",
              "23  1            data             2\n",
              "24  2            data             2\n",
              "25  ai           systems          2\n",
              "26  analysis     ensure           2\n",
              "27  analysis     methods          2\n",
              "28  analysis     system           2\n",
              "29  analysis     tools            2\n",
              "30  artificial   neural           2\n",
              "⋮   ⋮            ⋮               ⋮ \n",
              "692 tree         shaped          1 \n",
              "693 tree         structure       1 \n",
              "694 trend        information     1 \n",
              "695 trials       predictive      1 \n",
              "696 trouble      understanding   1 \n",
              "697 udemy        2               1 \n",
              "698 udemy's      online          1 \n",
              "699 unbiased     inference       1 \n",
              "700 uncovering   hidden          1 \n",
              "701 underlying   inference       1 \n",
              "702 unique       algorithmic     1 \n",
              "703 unnecessary  chaos           1 \n",
              "704 unstructured content         1 \n",
              "705 unstructured heterogeneous   1 \n",
              "706 user         friendly        1 \n",
              "707 utilizes     previous        1 \n",
              "708 utilizing    prescriptive    1 \n",
              "709 valid        interpretations 1 \n",
              "710 validation   statistical     1 \n",
              "711 variable     measurements    1 \n",
              "712 variables    bubble          1 \n",
              "713 variables    factor          1 \n",
              "714 versatile    tool            1 \n",
              "715 versions     free            1 \n",
              "716 video        representations 1 \n",
              "717 visual       clutter         1 \n",
              "718 visual       plug            1 \n",
              "719 web          search          1 \n",
              "720 word         cloud           1 \n",
              "721 writing      excel           1 "
            ],
            "text/latex": "A tibble: 721 × 3\n\\begin{tabular}{lll}\n word1 & word2 & n\\\\\n <chr> & <chr> & <int>\\\\\n\\hline\n\t data         & analysis     & 35\\\\\n\t predictive   & analysis     & 11\\\\\n\t diagnostic   & analysis     & 10\\\\\n\t descriptive  & analysis     &  9\\\\\n\t statistical  & analysis     &  8\\\\\n\t prescriptive & analysis     &  6\\\\\n\t artificial   & intelligence &  4\\\\\n\t data         & mining       &  4\\\\\n\t prescriptive & analytics    &  4\\\\\n\t analysis     & 1            &  3\\\\\n\t analysis     & include      &  3\\\\\n\t analysis     & predictive   &  3\\\\\n\t analysis     & prescriptive &  3\\\\\n\t business     & applications &  3\\\\\n\t data         & analytics    &  3\\\\\n\t data         & collection   &  3\\\\\n\t machine      & learning     &  3\\\\\n\t predictive   & models       &  3\\\\\n\t regression   & analysis     &  3\\\\\n\t techniques   & based        &  3\\\\\n\t text         & analysis     &  3\\\\\n\t time         & series       &  3\\\\\n\t 1            & data         &  2\\\\\n\t 2            & data         &  2\\\\\n\t ai           & systems      &  2\\\\\n\t analysis     & ensure       &  2\\\\\n\t analysis     & methods      &  2\\\\\n\t analysis     & system       &  2\\\\\n\t analysis     & tools        &  2\\\\\n\t artificial   & neural       &  2\\\\\n\t ⋮ & ⋮ & ⋮\\\\\n\t tree         & shaped          & 1\\\\\n\t tree         & structure       & 1\\\\\n\t trend        & information     & 1\\\\\n\t trials       & predictive      & 1\\\\\n\t trouble      & understanding   & 1\\\\\n\t udemy        & 2               & 1\\\\\n\t udemy's      & online          & 1\\\\\n\t unbiased     & inference       & 1\\\\\n\t uncovering   & hidden          & 1\\\\\n\t underlying   & inference       & 1\\\\\n\t unique       & algorithmic     & 1\\\\\n\t unnecessary  & chaos           & 1\\\\\n\t unstructured & content         & 1\\\\\n\t unstructured & heterogeneous   & 1\\\\\n\t user         & friendly        & 1\\\\\n\t utilizes     & previous        & 1\\\\\n\t utilizing    & prescriptive    & 1\\\\\n\t valid        & interpretations & 1\\\\\n\t validation   & statistical     & 1\\\\\n\t variable     & measurements    & 1\\\\\n\t variables    & bubble          & 1\\\\\n\t variables    & factor          & 1\\\\\n\t versatile    & tool            & 1\\\\\n\t versions     & free            & 1\\\\\n\t video        & representations & 1\\\\\n\t visual       & clutter         & 1\\\\\n\t visual       & plug            & 1\\\\\n\t web          & search          & 1\\\\\n\t word         & cloud           & 1\\\\\n\t writing      & excel           & 1\\\\\n\\end{tabular}\n",
            "text/markdown": "\nA tibble: 721 × 3\n\n| word1 &lt;chr&gt; | word2 &lt;chr&gt; | n &lt;int&gt; |\n|---|---|---|\n| data         | analysis     | 35 |\n| predictive   | analysis     | 11 |\n| diagnostic   | analysis     | 10 |\n| descriptive  | analysis     |  9 |\n| statistical  | analysis     |  8 |\n| prescriptive | analysis     |  6 |\n| artificial   | intelligence |  4 |\n| data         | mining       |  4 |\n| prescriptive | analytics    |  4 |\n| analysis     | 1            |  3 |\n| analysis     | include      |  3 |\n| analysis     | predictive   |  3 |\n| analysis     | prescriptive |  3 |\n| business     | applications |  3 |\n| data         | analytics    |  3 |\n| data         | collection   |  3 |\n| machine      | learning     |  3 |\n| predictive   | models       |  3 |\n| regression   | analysis     |  3 |\n| techniques   | based        |  3 |\n| text         | analysis     |  3 |\n| time         | series       |  3 |\n| 1            | data         |  2 |\n| 2            | data         |  2 |\n| ai           | systems      |  2 |\n| analysis     | ensure       |  2 |\n| analysis     | methods      |  2 |\n| analysis     | system       |  2 |\n| analysis     | tools        |  2 |\n| artificial   | neural       |  2 |\n| ⋮ | ⋮ | ⋮ |\n| tree         | shaped          | 1 |\n| tree         | structure       | 1 |\n| trend        | information     | 1 |\n| trials       | predictive      | 1 |\n| trouble      | understanding   | 1 |\n| udemy        | 2               | 1 |\n| udemy's      | online          | 1 |\n| unbiased     | inference       | 1 |\n| uncovering   | hidden          | 1 |\n| underlying   | inference       | 1 |\n| unique       | algorithmic     | 1 |\n| unnecessary  | chaos           | 1 |\n| unstructured | content         | 1 |\n| unstructured | heterogeneous   | 1 |\n| user         | friendly        | 1 |\n| utilizes     | previous        | 1 |\n| utilizing    | prescriptive    | 1 |\n| valid        | interpretations | 1 |\n| validation   | statistical     | 1 |\n| variable     | measurements    | 1 |\n| variables    | bubble          | 1 |\n| variables    | factor          | 1 |\n| versatile    | tool            | 1 |\n| versions     | free            | 1 |\n| video        | representations | 1 |\n| visual       | clutter         | 1 |\n| visual       | plug            | 1 |\n| web          | search          | 1 |\n| word         | cloud           | 1 |\n| writing      | excel           | 1 |\n\n",
            "text/html": [
              "<table class=\"dataframe\">\n",
              "<caption>A tibble: 721 × 3</caption>\n",
              "<thead>\n",
              "\t<tr><th scope=col>word1</th><th scope=col>word2</th><th scope=col>n</th></tr>\n",
              "\t<tr><th scope=col>&lt;chr&gt;</th><th scope=col>&lt;chr&gt;</th><th scope=col>&lt;int&gt;</th></tr>\n",
              "</thead>\n",
              "<tbody>\n",
              "\t<tr><td>data        </td><td>analysis    </td><td>35</td></tr>\n",
              "\t<tr><td>predictive  </td><td>analysis    </td><td>11</td></tr>\n",
              "\t<tr><td>diagnostic  </td><td>analysis    </td><td>10</td></tr>\n",
              "\t<tr><td>descriptive </td><td>analysis    </td><td> 9</td></tr>\n",
              "\t<tr><td>statistical </td><td>analysis    </td><td> 8</td></tr>\n",
              "\t<tr><td>prescriptive</td><td>analysis    </td><td> 6</td></tr>\n",
              "\t<tr><td>artificial  </td><td>intelligence</td><td> 4</td></tr>\n",
              "\t<tr><td>data        </td><td>mining      </td><td> 4</td></tr>\n",
              "\t<tr><td>prescriptive</td><td>analytics   </td><td> 4</td></tr>\n",
              "\t<tr><td>analysis    </td><td>1           </td><td> 3</td></tr>\n",
              "\t<tr><td>analysis    </td><td>include     </td><td> 3</td></tr>\n",
              "\t<tr><td>analysis    </td><td>predictive  </td><td> 3</td></tr>\n",
              "\t<tr><td>analysis    </td><td>prescriptive</td><td> 3</td></tr>\n",
              "\t<tr><td>business    </td><td>applications</td><td> 3</td></tr>\n",
              "\t<tr><td>data        </td><td>analytics   </td><td> 3</td></tr>\n",
              "\t<tr><td>data        </td><td>collection  </td><td> 3</td></tr>\n",
              "\t<tr><td>machine     </td><td>learning    </td><td> 3</td></tr>\n",
              "\t<tr><td>predictive  </td><td>models      </td><td> 3</td></tr>\n",
              "\t<tr><td>regression  </td><td>analysis    </td><td> 3</td></tr>\n",
              "\t<tr><td>techniques  </td><td>based       </td><td> 3</td></tr>\n",
              "\t<tr><td>text        </td><td>analysis    </td><td> 3</td></tr>\n",
              "\t<tr><td>time        </td><td>series      </td><td> 3</td></tr>\n",
              "\t<tr><td>1           </td><td>data        </td><td> 2</td></tr>\n",
              "\t<tr><td>2           </td><td>data        </td><td> 2</td></tr>\n",
              "\t<tr><td>ai          </td><td>systems     </td><td> 2</td></tr>\n",
              "\t<tr><td>analysis    </td><td>ensure      </td><td> 2</td></tr>\n",
              "\t<tr><td>analysis    </td><td>methods     </td><td> 2</td></tr>\n",
              "\t<tr><td>analysis    </td><td>system      </td><td> 2</td></tr>\n",
              "\t<tr><td>analysis    </td><td>tools       </td><td> 2</td></tr>\n",
              "\t<tr><td>artificial  </td><td>neural      </td><td> 2</td></tr>\n",
              "\t<tr><td>⋮</td><td>⋮</td><td>⋮</td></tr>\n",
              "\t<tr><td>tree        </td><td>shaped         </td><td>1</td></tr>\n",
              "\t<tr><td>tree        </td><td>structure      </td><td>1</td></tr>\n",
              "\t<tr><td>trend       </td><td>information    </td><td>1</td></tr>\n",
              "\t<tr><td>trials      </td><td>predictive     </td><td>1</td></tr>\n",
              "\t<tr><td>trouble     </td><td>understanding  </td><td>1</td></tr>\n",
              "\t<tr><td>udemy       </td><td>2              </td><td>1</td></tr>\n",
              "\t<tr><td>udemy's     </td><td>online         </td><td>1</td></tr>\n",
              "\t<tr><td>unbiased    </td><td>inference      </td><td>1</td></tr>\n",
              "\t<tr><td>uncovering  </td><td>hidden         </td><td>1</td></tr>\n",
              "\t<tr><td>underlying  </td><td>inference      </td><td>1</td></tr>\n",
              "\t<tr><td>unique      </td><td>algorithmic    </td><td>1</td></tr>\n",
              "\t<tr><td>unnecessary </td><td>chaos          </td><td>1</td></tr>\n",
              "\t<tr><td>unstructured</td><td>content        </td><td>1</td></tr>\n",
              "\t<tr><td>unstructured</td><td>heterogeneous  </td><td>1</td></tr>\n",
              "\t<tr><td>user        </td><td>friendly       </td><td>1</td></tr>\n",
              "\t<tr><td>utilizes    </td><td>previous       </td><td>1</td></tr>\n",
              "\t<tr><td>utilizing   </td><td>prescriptive   </td><td>1</td></tr>\n",
              "\t<tr><td>valid       </td><td>interpretations</td><td>1</td></tr>\n",
              "\t<tr><td>validation  </td><td>statistical    </td><td>1</td></tr>\n",
              "\t<tr><td>variable    </td><td>measurements   </td><td>1</td></tr>\n",
              "\t<tr><td>variables   </td><td>bubble         </td><td>1</td></tr>\n",
              "\t<tr><td>variables   </td><td>factor         </td><td>1</td></tr>\n",
              "\t<tr><td>versatile   </td><td>tool           </td><td>1</td></tr>\n",
              "\t<tr><td>versions    </td><td>free           </td><td>1</td></tr>\n",
              "\t<tr><td>video       </td><td>representations</td><td>1</td></tr>\n",
              "\t<tr><td>visual      </td><td>clutter        </td><td>1</td></tr>\n",
              "\t<tr><td>visual      </td><td>plug           </td><td>1</td></tr>\n",
              "\t<tr><td>web         </td><td>search         </td><td>1</td></tr>\n",
              "\t<tr><td>word        </td><td>cloud          </td><td>1</td></tr>\n",
              "\t<tr><td>writing     </td><td>excel          </td><td>1</td></tr>\n",
              "</tbody>\n",
              "</table>\n"
            ]
          },
          "metadata": {}
        },
        {
          "output_type": "stream",
          "name": "stderr",
          "text": [
            "Loading required package: ggplot2\n",
            "\n"
          ]
        },
        {
          "output_type": "display_data",
          "data": {
            "image/png": "[encoded data removed]",
            "text/plain": [
              "plot without title"
            ]
          },
          "metadata": {
            "image/png": {
              "width": 420,
              "height": 420
            }
          }
        }
      ]
    },
    {
      "cell_type": "code",
      "metadata": {
        "id": "HHhcYwx5nP_x"
      },
      "source": [],
      "execution_count": null,
      "outputs": []
    }
  ]
}